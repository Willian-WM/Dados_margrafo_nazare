{
  "cells": [
    {
      "cell_type": "markdown",
      "metadata": {
        "id": "view-in-github",
        "colab_type": "text"
      },
      "source": [
        "<a href=\"https://colab.research.google.com/github/Willian-WM/Dados_margrafo_nazare/blob/main/Exemplo_IA_maregrafo.ipynb\" target=\"_parent\"><img src=\"https://colab.research.google.com/assets/colab-badge.svg\" alt=\"Open In Colab\"/></a>"
      ]
    },
    {
      "cell_type": "markdown",
      "id": "1d3a32b5",
      "metadata": {
        "id": "1d3a32b5"
      },
      "source": [
        "# Implementação de modelos de IA"
      ]
    },
    {
      "cell_type": "markdown",
      "id": "29a0e223",
      "metadata": {
        "id": "29a0e223"
      },
      "source": [
        "## Previsão da altura significativa de onda da próxima hora no marégrafo costeiro de Nazaré com dados de 2018 e 2019\n",
        "### Dados disponíveis em: https://monican.hidrografico.pt/maregrafo-nazare"
      ]
    },
    {
      "cell_type": "code",
      "execution_count": null,
      "id": "49305170",
      "metadata": {
        "id": "49305170"
      },
      "outputs": [],
      "source": [
        "# Importação das bibliotecas necessárias\n",
        "import numpy as np\n",
        "import matplotlib.pyplot as plt\n",
        "import tensorflow as tf\n",
        "from sklearn.neural_network import MLPRegressor"
      ]
    },
    {
      "cell_type": "code",
      "execution_count": null,
      "id": "68407469",
      "metadata": {
        "id": "68407469"
      },
      "outputs": [],
      "source": [
        "## Leitura dos dados\n",
        "#Colunas dos dados\n",
        "#[     0        1    2  3  4  5  6      7  ]\n",
        "#[Julian Day    Y    M  D  H  M  S  SSH (m)]\n",
        "\n",
        "data2018 = np.loadtxt('https://raw.githubusercontent.com/Willian-WM/Dados_margrafo_nazare/main/SSHNazare_Jan2018_Dec2018.dat',\n",
        "                      unpack = False, skiprows=3, usecols=(0, 7))\n",
        "data2019 = np.loadtxt('https://raw.githubusercontent.com/Willian-WM/Dados_margrafo_nazare/main/SSHNazare_Jan2019_Jun2019.dat',\n",
        "                      unpack = False, skiprows=3, usecols=(0, 7))"
      ]
    },
    {
      "cell_type": "code",
      "execution_count": null,
      "id": "d6cff5eb",
      "metadata": {
        "id": "d6cff5eb"
      },
      "outputs": [],
      "source": [
        "# Função para plotagem\n",
        "# A organização de gráficos dos dados permite identificar possíveis falhas.\n",
        "fig = plt.plot(data2018[:, 0], data2018[:,1], data2019[:, 0], data2019[:,1])\n",
        "plt.xlabel('Date')\n",
        "plt.ylabel('HHS (m)')\n",
        "plt.gca().legend(('Dados 2018', 'Dados 2019'))"
      ]
    },
    {
      "cell_type": "markdown",
      "id": "0b6ff696",
      "metadata": {
        "id": "0b6ff696"
      },
      "source": [
        "### Ao analisar o gráfico acima, nota-se a existência de valores anômalos próximos a 100 m.\n",
        "#### Visto que estes eventos não ocorreram, é necessário remover estes dados antes de implementar os modelos de IA.\n",
        "#### Para isso, será considerado valor anômalo aqueles em que a diferença da média é superior a 3 desvios padrões."
      ]
    },
    {
      "cell_type": "code",
      "execution_count": null,
      "id": "134b524b",
      "metadata": {
        "id": "134b524b"
      },
      "outputs": [],
      "source": [
        "# 1 Cálculo da média de 2018\n",
        "mu2018 = np.mean(data2018[:,1])\n",
        "# 2 Cálculo do desvio padrão de 2018\n",
        "sigma2018 = np.std(data2018[:,1])\n",
        "# 3 Número máximo de desvios\n",
        "max_dev = 5\n",
        "# 4 Normalização dos dados com média 0\n",
        "norm  = abs(data2018[:,1] - mu2018)\n",
        "# 5 Filtro dos dados que não são outliers\n",
        "data2018_clean = data2018[norm < max_dev * sigma2018]"
      ]
    },
    {
      "cell_type": "code",
      "execution_count": null,
      "id": "47540b5a",
      "metadata": {
        "id": "47540b5a"
      },
      "outputs": [],
      "source": [
        "# Gráfico com os dados sem as falhas\n",
        "fig = plt.plot(data2018_clean[:, 0], data2018_clean[:,1], data2019[:, 0], data2019[:,1] )\n",
        "plt.xlabel('Date')\n",
        "plt.ylabel('HHS (m)')\n",
        "plt.gca().legend(('Dados 2018 tratados', 'Dados 2019'))"
      ]
    },
    {
      "cell_type": "code",
      "execution_count": null,
      "id": "e32c1463",
      "metadata": {
        "id": "e32c1463"
      },
      "outputs": [],
      "source": [
        "print('Formato da matriz original', data2018.shape)\n",
        "print('Formato da matriz filtrada', data2018_clean.shape)"
      ]
    },
    {
      "cell_type": "code",
      "execution_count": null,
      "id": "a18e53b1",
      "metadata": {
        "id": "a18e53b1"
      },
      "outputs": [],
      "source": [
        "# Confirmação do número de valores anômalos.\n",
        "# Valor anômalo = 99.99\n",
        "count = 0\n",
        "for x in data2018[:, 1]:\n",
        "    if x == 99.99:\n",
        "        count = count +1;\n",
        "print(count)"
      ]
    },
    {
      "cell_type": "markdown",
      "id": "83a9ee9a",
      "metadata": {
        "id": "83a9ee9a"
      },
      "source": [
        "# Organização dos dados"
      ]
    },
    {
      "cell_type": "markdown",
      "id": "cf7d19b4",
      "metadata": {
        "id": "cf7d19b4"
      },
      "source": [
        "### Como o objetivo do modelo é prever a altura da maré no próximo instante de tempo, é necessário organizar os dados de entrada e de saída:\n",
        "### O modelo receberá como entrada, o dado do marégrafo no instante t, e deverá prever a altura significativa no instante t+1\n",
        "### Os dados de 2018 serão utilizados para treinar o modelo, e os de 2019 para prever."
      ]
    },
    {
      "cell_type": "code",
      "execution_count": null,
      "id": "17e43726",
      "metadata": {
        "id": "17e43726"
      },
      "outputs": [],
      "source": [
        "# Normalização dos dados e seleção da coluna de dados de entrada\n",
        "## Cálculo da média e do desvio padrão\n",
        "mean = data2018_clean[:, 1].mean()\n",
        "std = data2018_clean[:, 1].std()\n",
        "## Normalização dos dados\n",
        "data2018_norm = (data2018_clean[:, 1] - mean)/std\n",
        "data2019_norm = (data2019[:, 1] - mean)/std"
      ]
    },
    {
      "cell_type": "code",
      "execution_count": null,
      "id": "f61d0cd8",
      "metadata": {
        "id": "f61d0cd8"
      },
      "outputs": [],
      "source": [
        "# Visualização dos dados normalizados\n",
        "# Nota-se que os dados que antes variavam no intervalo entre 0 e 4, agora variam entre -2.5 e 2.5.\n",
        "# Este procedimento é utilizado para otimizar os algoritmos de IA, cujo desempenho melhora com valores pequenos.\n",
        "fig = plt.plot(data2018_norm)\n",
        "plt.xlabel('Date')\n",
        "plt.ylabel('HHS (m)')\n",
        "plt.legend(('Dados normalizados'))"
      ]
    },
    {
      "cell_type": "markdown",
      "id": "c76b300e",
      "metadata": {
        "id": "c76b300e"
      },
      "source": [
        "## Organização dos instantes de tempo das entradas e saídas\n",
        "\n",
        "### Cada framework exige que os vetores de entrada e saída estejam organizados de maneiras diferentes.\n",
        "\n",
        "#### Formato de entrada de camadas densas:\n",
        "![image.png](data:image/png;base64,iVBORw0KGgoAAAANSUhEUgAAA14AAAB5CAYAAAApmfDhAAAgAElEQVR4nO3de1xVVf7/8df8dGBGhXC8TIKWmBoN48hX8xImiWUqmmZZmhZWE40GNnibFPuGlGKlqMOAmZTamTRvqZgXCBPSOgleBkOMARTMoAZlJFAmGP36++Mc4IAcOAhHTd/Px8OHevbea699Xeuz19pr/+Ly5cuXEREREREREbv5f9c7AyIiIiIiIjc7BV4iIiIiIiJ2psBLRERERETEzhR4iYiIiIiI2JkCLxERERERETtT4CUiIiIiImJnza1NuJybfC3zISIiIiIictP5Red+QB2BFy5u1yovIiIiIiIiNzV1NRQREREREbEzBV4iIiIiIiJ2psBLRERERETEzhR4iYiIiIiI2JkCLxERERERETtT4CUiIiIiImJnCrxERERERETsTIGXiIiIiIiInSnwEhERERERsTMFXiIiIiIiInamwEtERERERMTOFHiJiIiIiIjYmQIvERERERERO1PgJSIiIiIiYmcKvEREREREROxMgZeIiIiIiIid3RqBV8J8uvTyZVrC9c6IiIiIiIjcihoReH1L1FO+dHnqQ7KbLj/WnfiQR3r58kjMt9dibSIiIiIiIk3m1mjxEhERERERuY6aLvCqaJF6eyPznn6ELr18uWf0HAz/NE9PmE+XXo/wUsRfeeQBX7r0GsoDwR9iLDJNjpvjS5de84mrmV7Mt2THvEiXJ94nHUh/Z1LtrWwXfyB2/ot49TGl3W/SImJPV5+l+B8f8sfRQ+nSyxevp/9KYpHFsm/P4IEBvqZpj80h5nh5tXyMnf+OxbI10i46QlTwJNO6+zzCI/M/4/TFptmtIiIiIiLy89fkLV7pm3ZSNjyYpTP86JR/gHlLtnGmcup54hJ/wHfqq8x77vf8tO99XnprP8X1pNl14pskL3+SrkDXSREkR5n+benIO68wbUsJvvNW8umqP9I7fxfT/vw+RyzmSdyXjuczf2HepF5wfBsL/55etez6XDxfiuLTD1/F99IBFv75HRItgqcju/9B+yf/wtIZfrT/5y6m/aUi+PsBwyszWJLeFv9XXmVpsA9lsfMZ+/aBq96HIiIiIiJyc2ne1Al2ff5VFk7sBvTjp4O7mPNlFoeBYebpw6YuZPpQgH44nniEOXs+x/jGwLoTbfEb2rVzwhGgRVvatXG4YpaC/G/BxY9RQ7vRtXk33vxrB4bm/BLn0qp5qtbdkpOxRzAcy+IM3ej6+FKSxzng3L4VjngSOHIDse+kk34KfCu26+lZ5u16kE5njzD2g33EnXiaoJKtvH8QfF8NY/pjrYAHcTy2i5e27icupH/ldouIiIiIyK2ryQMvx+aO5n+14rZfA5fKqk+vbGNrRW/PbrDvW7JPcUULVkN5D/Gj055d/PGBI3j7+PDAyBH4j7gDR4t5qtbtStvfAsXn+REHurYtxBD6V6L3pXPmPxXzdLOyXdDrd57AZ5w4CWcKszkNnJ7/CF3mWy5RfbtFREREROTW1eSB1/XiPHgWn8b6EbdzF5t272Jh/EaW9P8zny5/lE51LnmeuNDpzNvTgaDlnxDYpxWnY17k4XdsW++P/ykBHBj9xkeE9LGc4oDz1W6MiIiIiIjcVK75qIZl/1fxr/McTs+CZnfQ9c6K38opq3iv6mJZA9qM0jHMW8S8fTA6YBYfbvmED8ffTtmBXcTm1rfsv8nOPQ9dfRjVpxWOQNnFK9ds+duR4+lAN+7qAl27e+JMOeknv6dd+9+Y/vwGcGhVrbVNRERERERuXde8xSvu3UXEXOyF48ldRO+DdmMfYlhzONOzF8Tv5723t0HPcg68bxq8wrNiwWamv06nJxC7zwdfn24WLUp30r5sH/MisnBsM4tAtx/49OsfwKUXnh2BrLpy1Arn1sDBBN5f24H+HCF61bfU7GqYvWUFS9r5cVfZEaI//AH6jGP0XcBdY3jhd9tYYpjPHxnHqC7lHPjwfTY4/5HP332yntY2ERERERG5FVzzFi/fXg5sf3s+81Yf41c+U1g1sz8A7cZOZp7P7WRv/ivTwrfy0wN+1d/76vwogY/dTtm+D5m25h8UVEu1FcPColk6GraFvEi/p19jW2l/5kT9Gd96Q8vf4B++EP+7/82GiPnM3vhvnvAfCGRx4mTVXF173UH6399mWsQuCu5+lOXhFV0Y7yAoKoLpAxw4bPgr0/73fYyt/Vj6qoIuEREREREx+cXly5cv1zbhctF3TbumhPl0eeUzRr+VyNIhTZu0XZ34kEeeeB+mfMAnAXdc79yIiIiIiMjPyC9cOgLXocVLRERERETkVqPAS0RERERExM6uXVdDERERERGRW4y6GoqIiIiIiFwjCrxERERERETsTIGXiIiIiIiInSnwEhERERERsTMFXiIiIiIiInamwEtERERERMTOFHiJiIiIiIjYmQIvERERERERO1PgJSIiIiIiYmcKvEREREREROxMgZeIiIiIiIidKfASERERERGxMwVeIiIiIiIidqbAS0RERERExM4UeImIiIiIiNhZc6tTivKuYTZERERERERuQi4dAfjF5cuXL9c6Q/mFa5kdERERERGRm49DS0BdDUVEREREROxOgZeIiIiIiIidKfASERERERGxMwVeIiIiIiIidqbAS0RERERExM4UeImIiIiIiNiZAi8RERERERE7U+AlIiIiIiJiZwq85MZx6XpnQOQWputPRETqo7KiURR4XUfFx/YSd6zEytS9BHuMJyqr8evJXj4e9xl7G5+QPWXtIui5ZSRZXNAlJw8Svyed/OuXK6CAQ3uSiE8ruGZrLC8uoKT8mq3upnez7U/TdXGQzPM1p5RTUlDK1W1qFiumzmVFammj81fTz+L+I1fvYh7G2BROX7xJ12cH2cvH4z4mhmxrM8TNsTo9boYXI5fn2DF318i3KcQa8653LhqmvnMvK4aRHnOIa4JV3ZDH+VIum2cHEvql5Y+mOpLxZNOXHQ2Rn5Z0A9QXbdOIwCuHqDFeuI+98uZQ901lL8EeXrhX/PEcyJDnFxL7bR2ryophZBMFITeSwxvnMGXJLs7ATbuNNik2Ehq2Focnn2VQs6qfC7/YSGhkApmNXkE5JQUFFBZfTZU0m08iYwj9xGoR2bSKEpg9aRpDlh68Nuu72d0I+/N8EYUFRZQ30VNC03WxEWONZwGFOxYz5IUAFn9Z+3J168bE8e34JCyUNScbsFjcnKp7eS1/gpuiBnK93Mr35Ib49jMiQkJ477D5/3FzcG+iymet6dVcn1wb3+5m9viH8Kiot00xkF5WMdFcH6y89vvRd/wcYpKtPViG7IRogv9iwHgt8t5U56S9z/UbWilJby1gcbNHeXmA5e+mOtKKLxr/cLq8qIDCoqsL4DI/iWmi+qL9Nb7F61g0wSsbHpWPXpZKTkYqGZ/HMOP3OSwYPp6obxqdm58V39eTyVk1jnbXOyPXmXHNauLbPsHMkS52WsMhFr8wjRFRh+yUfhNyGcDkmcHEvNDneufk5nAD7M/cLQsY8cIC1p2y73ra+DzBm6/M40/9r255J58X+VOPfFa8n4D16lINwxaSk2G6l+d8EognHsz4JLXyt2XDri4v8jPSxZ+P0/cQ1u8mXZ9A8V5mT5jDsd6hJBxNJefzCHzPLGHCgv3VZvN8eaupXvfVelaM/hUbnx9DcFztd5Ouf/yAnC/m4H0t8t9UbuVzL2Utiw605+WgIbRpVv/sDZfLupBpjAjZSa49kr+BNDrw6tTFnfS/LsRwlS3Gjm09GDZ9JW89eZaINzdwusb07OXjcX8kmnQyiHjEoun1YgYbZoynp6fp6cvI+Xs5c9FimeANxM03T+81guc/zKhK9GIGhiljKpet/uQGziQsYeLD/XD38MLj4RcJTyypnp/gaKImDbzySce/NjCx2hPS/YTe58XzGyuWL2HDFC98Fh0FTE3J7jP2Wt9GoOy4gefNeek5diGJ56zsyHq2iUtn6tgfecS+Nom+vSqeVFmsJyuGkR7TifhwKj7m6T4ztlZvaj+3n/DnR5iehPUawfPvZ1Bm3v7ZvbyY+NFZK5kGziexPbGUQcMfxtXKLGWFWcQbYlhsSCKt8MrphccPsm5lNIsNCTWau0vJPJBE/J5MU/Pz2Uzi9yQRf0WzeDn5aaY0IjcfrHUdphWZ8hG5ObWWbl71Kz+VymZDDOErtxGfkl+9S9j5XIx7kojfk0LOfy6Qn1/96ZGpe1nSlX8O5FavJJfnY9yxicXRm9hccx23knr2Z8X0QwWm47JuZQxrdqSSW7nDqrqYFh5PYk10DGv2ZFFo2WpVkH5Fl7/8NItjUpBuOte+LQVKyTlYcdwa3h3ClIc1rKvlmFaeGyl5lP0nj5xq56+5G8g/80nbsYbIHVkUFmaxeeUaNh8vqpFSC0b5eeOU9ikfN6TVyxZ13X+A9I1zGNnXq/I+F1frLcPU/Tr0/YXV5k08m4FhisX9p1raZaR/ZJn2HDZYPuCzct+s655s6fTOsMq0PR6eSpTlE/6yDAyWZdSMraRX3jcbvi1xM7wYOd9A6NiBplaFvuMJTTxLuuW9ecoGi3XYUpbVUU7WUJy4kMfvN6d1/yRCE8wHyaJlMG6GF+7Bu4HdTKlo8ayl+1VF2WdSgnH5VIZU7Ae/qRi+sZiv1vQsylkb9nNErA3l6L6F9PScQ1zFsv/awESPEYRXtqwdJfxBi/L87N5q5d7ERfsprpi13m2u4dz+yuPq8fBUog7VU8D8e3+N86B6cGPb9UT1VqxeD/H4fIttsJS8nw3nxhA0ayCdHIG2fQl6ciDFaRm19mxybO1Or6dCWTWnC7Hzo0ispWte9Z5R9RyneuohV3ZnNvWsCo6zcg5Zashxr+9cB6CMgoSK6/rKa7KabzbwvF/FcRxjUXcy+ymDmIr7Qc3jXMexq6inWt5LgjdWr6QXJ1reG6YSc6zammsoZfuOJAq9hvBIB2vz/JfclG1ELq69nLKs/ySlFVSbbuommErOeSzK7lpe8TifW3/95lIRaXs2sXjltuve/dGaRgdeziPn8KZPCqEhVwZNDeE70o9OyV9grHHVd31pfbUnqTtecgdKiJ0ZQAST2HEklYxPw+l9eDrPWba8xcUQe9c8Uo4ks+/Vuzk8fwmGf5kmGd8MIvTMQ6xOSSUnJYphlk9uDi9hQvB+uk7fQkZGMgmBbdg2xd/iIgTitpI+OIqEz0Pwtczsb/ty3z0ZHPmH+eI4fJDEc5CYXNHNKZXjqU749utpwzYCZBD197M8s3ofGV+txP/SBoIjqz9hqlDnNtW7PyYRfLwvK/anknNsJ3PdPuP5/91qcQPeS+L3T7J2fzIZW6fjmRzG85Gm4JGLGUQ8PxWjVzhHj6WSsdYf3gvglbgSwItRoXMIHNC21jwDcCSVpEvduPfeFlZmOMqCP4UTuSeV+K0xBLwwy6IrVClJiwMZMXs5a784jnH3OqYHB+BvqHheUsShTzbxruFL/gnw7Ze8a9jEu4ZNbD5aVJVGeCCPzV3G6i+OE79+GQEvTCMyrUY2vtuK/0tv8+6eFDYbFuE/eRlJDQi+cjfM5aGpi3h3TyqHvtjJgvmzeCh4W9WTnYKDrIiMIbTiT42ujabuZTFX/ll7kMp6dtYmAibMYvqaTzEmf0pkzXXcSurZnxXTF4fPZfxfYtj8hZEVKxcxfsYm8/4ydzF9bRojXlvL9i+MrIicx5i5u6qCpoyEK7r8ZX4SQ6jBfExOGnnXsIm1aUVAEcadm8znn7FBxyTTMIsRs2NYse8gm5fOxX9r9bCt5rnxSbW6s3k73ljA7LWfs27lPEa89DarP0tg8exlbK75kKGPJ73JZ+9XTdxTvo77T/HO6UyIhICtyeQc3ckyr6NMCbDWVT2D3f/owlvxyWR8toThpRuY8vAMvvKJ4OjRZPaF/oFjlmlvnMnI6EJGv5NMzrFkVvvkMHvsVDaYK3TW7pvW78lVihPCePwv3+D7TjI5GcnseO6XGJ4PZUMxQAkbgscTdc6vMm3fU2GMnGp5X23YtgCkx6Vy17xdZBzdyTvDyjDMGMGUA/fzzv5kMj6dR6+0hYSvN9eybSrLrB+Xav61gSlBn9FpljmtWa7snjqDmBoPXIdFpJKzbDgwnHdsbPE889EMJq5rRdBW035cN+wMoTOiOWJTerbtZ5vKUe9++PI1R8xFW/HnX2AkD2OyuV7xrwzS8/oy6AEnuHiUcP/pJN45g4SjqWR8EkS72Kk8bn6o2jB5GIKnsvv2IHYcTuboe09SnFp7OV8h/aNdOL68noyj+1n7NBiCKs67hlxPKYROmMMx7wiOHksl59MZdIqbyitbammhGhJKTnoolru/4OwZuL0t7evIZ6dRw/E9+wVf2bRb6jtOddRD6lDvOdSQ425TunuJiu3CW4nJZHw6G89Ui2uymhRCAxZSMCyKjGOpZLzzEAVLAghNrJoj/f0POPPUSo4e3c/a8WAIiSKxYtn6jl3Cfr57aiVHjyazY9bdGF8LIiLVPO2baCYEpdBr4T5yjiXzsT9EBcwjrtaoG7iUyuE0uPd/vHCyMkvm9nD8IxJIOvw5kfNnMeatg5UPhavXf2KZPXcaY8KNVdP3beJdQwLGEqDkOGvN9bR391l0E8nahP8zc831m10snj+LMa8l1XiImceq4GnMNiSR+Okmpgf/mfAvb7zgqwkG12jHuPBQfA8tJHSjzR1UruTshDNnOFPbTb+mrPXExHkxI3Q4nRzB0W0gM54aSPrePVU3F99A3nrKA0dHRzo9NhJfUjj+tWlS8bmzdPLqQ6+WQMueBLzxN173bUcxELfOQMHj0wkb5oYjjnQavZC3njxLzDqLpym+gbw1qSddf+uEY7WMuePt7UZiqinQyk5OgRHD8TYmmy6WrAwOF9/PfTa3rbsRMGc6vm6OOLbuy+ghHlafMNW1TfXtj96T15PyQaBp2eZtGT2kDyR+bdH3ejAB0wbSqaUjjveMI+S5nmTv/IwjAHs+IKrYn9df7oljc3C8ZxxBjzkTu+8g4IT36HF432F9C3Nz86CZC23bWJujBaNefZedhmgS3vaj+6V81u4w3z2KviTxa+gxZiY7DdFs+Siamb+DzK3bSALAlQkLotlieM4UIPd6ji2GaLYYolkyxty+dmA1Cw6Ucq//IhIM0ezcEMIElwLWGXZRvU7qxat/j2GLIYadkz2h+CDb99l6QaeyeUsu5X0DSDBEm9II7EPbfx8kqeKpbZcnMGxfy4HtgQytJYXO/os4sH2t6c/WBUy+E2jmyuSXn6AzAAWsi95G2q/68OYqcz5f9sLx5CZW77MxmzeTevZnhcK2Q4hZF80Ww2pi/FzglJE4y3d6Ovhh2BDDlo9WYxjjSvnxTaxLsTEP/QPYYogmeoQr4MrEedHm8y/A9u4155NYtTUfejzLznWmczyst0O1WSrPjZnWu1O2eXAWOz+cxCCg+4i57JzvR2eySEuvMWOzznh0hMxTTRyuW73/5GB4by+9Xw5htJsjOLrh+/I4fL/5jLhaW93cGRc4Ds/Wjji6DeaZYe6UufkRVJH26CF4k8KRf5jT/mg/vZ4LJaC3IzR3pNfLEYR47efvH5kqVfXeN60qYfeWrfzq2TnM6O0IONL1qRm8/uxtlJ0Estbz98SeBLzhX5n2jL9Op1fiBgyV51dDtsWk65Mv4v97Jxwd3Rj21EN0LXVldOA4PFs64njHcIb1A+M/TDd2m8syK+VCNcXF/HjpHnr5VKQVxLK3xuNZ736qn/OwcFI+mWc6/jjiOfxBPE/ux2hLq6tN+9nGcrR5H+7zycN42HRuGJP34ztiOKeTU0zvYf8jFeM9ffD+LbBnPTHnxhAyd7C5DjKcZW+MoWDN+qqWE1tl7WJjck8C5lQcx4GEPDe4zkW6/mkeIT5uODo64f3yHAJu38v27Wdp0PV0sSdBH+/h45dMZTdtTedP3CEb3oc9t5Xw6LP4PzUG57rmc74NZ/IoOFN/kvUfpzrqIY3RkONuk4HMCK84lmMY7Q3GWi+q8/x41o3e/cx1p97+vBUVwtDbq+rRnZ6dU3WcH3kQz3NHST+JbcduyCTzso54PjWDgN45xCaYe1u9F0Nxxb2ruSOeT7/AuBa7SUq2skmn8si5BK7t63gd5O4JbK0oo/o6UPjlTuILAdKJ+7yItubycIthNVFDXSg8sJWPvzMt6h0YzRbDLCZ2ADr4EW2up20JrCjTTPWbzJbeLFkXwxbDahIme1KY+sEV5bF3kKm+uHPVs3g3K2X7ri9t7zp/jTRvklRajyFszm58wkLYMORv9K6ckEPUmDFEVHTtGLGEnIgmWN+Jk6Szn9l9vZht+fs9f6j6d4vbrrgh/GTuJuQ92h/n4BfpmTqQRwf7MXr0YEbf4wjkkH0Sej/lVW2533e/Bz4+QTaDraZdoVe/+3EOS+UIf+BYch6+f1xIu5NBfHUYep/4mnSfwXjbvNedcK65Iisv6FvfJiiwkueK/eHoVIJxwQwW7DjKmcpYYrjFnI6mi9usk3dfui76jgIg+2QO5O3mcQ9D9cRH2LaFud/nQ4e+5uChNt2418tc0ew2gMEdd7EiI4tcvOjsMoQwwwPkpx0lfo8p1Movp0FDnaalHqcETx4eZg7Emnky+a9Lmfh/ragWC3Z0p7s5G04e3ehOOmfPFkAdOa/Sne53A4djmW34L8P+x5PevsFsqSsisMr0guuKUy0YOjOMZ7uZfy48hPEkOPVoR1lKEvEAtKMzkHY8HXyaoop08+lwR+fK/uo9ftcNdh3k+++Biv3a0Z3u5undH+hL963b+DojF/ractybwNFUki7BIN+KfvUtuPuOtmBr8Gfm0Axo5lD1oKiZAw51zM/3eeRi29ltE6v3nxyyv4HE1wbi/prlVA961XodV78XOTZ3hOYONR6AVcgh+xs3er/qZvGbG127O5F+Igdwr/O+WbeznPkBPEda9l5wY9isUNM/406S7taT16ut2p3ft84g+wTm86sh22IxT4XmDjjWSKPatl9lWfZTbfu920M86bON0AdHEO/7IING++E/Yrhp3Y0cfMTRCbJWzmTCmv1kV0a8Hgyz5T5+wpb9bGs56sTgAX2Z/WUqxXzHV8a+DNo8BOeHt7K3eBzd0r6mk/d4umIu97zG0dty3//Og99f2kp2Q195P3GS9NYezLDchmZ1n4PVzgN64tkDjMUlNOh6au6I84W9hP45gm2pZ6u6uNVXdp/bT+jENykI/IBVPvXM2yD1HSfr9ZA6gz8b1mvrcbdNK26rmaFae/H1YfQkJ6Y8P5DDPn4MG+bH6GHD8bQ4tM4ta9myS9h27KqdQ25493Mn/FQhFfeG0zsn4f5+9aRHW7vmvs8jE1cGW+1mCN3v7lZZRg316UloykHS0mGsjyeTl0fz/MlUEs31tMKKLqS2vgtx/iiHToKr3yC8K+phQ4PZee95HKrFgm543G2ewbkbf+gAxnNFFILVlrrroWkCL6DT06GEJYwgPGw373Sv+NWdoK2pBFWb00of5+ISimlHO1ufKrQex6qv5lTv6mdW3/hzzj7T2fHVOI7s+4y4LR/wXHQEv381hrVP1T7/j6X1P/+s5N0P3x9WYkx150imH8/4uHNbMryWnEOv7/bjPSC0kTeJ2lnfpiu7yFRXQlyIP8GnxrP2s5V4t3Y0jdQTXMcipWXV7yP95pDywbUYJKQ9v2kNVPbPz2VdcBiRp1rQo/fvcP8V5Ft7B86Kwn8XAd1wblX1m4Nze6w2wF2VFowKjcZ16xre3b6O2ZvLAQe6D32J6MA+DbohZBpCmX2glO5jFxDmY9E988cLFAMl2Ubetezz6+ICl268pnaxUcXDkTqjpJ87J/xX7iesSStx1pWVVT3/vPr75tX4L2UNKErsoUFlWTXu+K/cybhv9rMhcS/x8ycR3vxRVq2vvQxuiOyVQUxc586yzcmMvsPR9B7NI581IsWr38/t+vXBc+HXGA87kdj9QYLc+uDoM52vjDmcSS7G9+We1he+UMyPV7faJmbj9VS8l1cmziH7qZWkfNAXZ0fTe0tT6lrmYgZRAVPZfc8S9rzkUX9Win+kGDe62qNyULMe0giNOu5XzQnfOes56n+UxD2fsfHvQUQsuoew1Svx71bPoldx7MrKqkc53q/uYe3TdbwG0hitXSze2S8lafEsZu8rpbvXvXg4Q/G/SgFrr5fUoqCIs0CrFi2rfmvWgjbtG5DGDaQJv+Plhv+rgXRKCCc8oeENe4k7dnG63/142xKV3N6RrudSOJJq8ZvNzft5GGN3YzzrRq8h/oS8s54d090wbtxDNu507QKHj6VWW+L0d3nQ5S7bnng078N9PhkkLt2N0bsfvkCvwQ9SnLCEjclueN5jjxO9rm2qz1myT5Yw+oVAU9AFcKnu21nxiRxOu7WjPdD+dlc4lMxey4KuAV0tOndwrXy6Xrv/Ulb5FCaH3NNAy5amYCUtic0ny/EOWETMq4GEzAxkbH03rJrrv9MVyCPXohtGtQESmsL5XIyJqTAgmBjDag5sXsqSoW3JjF/Ouw1ouSjZt4xpm/Np0z+QaP8abRHtXWgL0HNiZXfKLVc01zet8vP1BHTn6/umVDnlVzFIyXVz4QLnAWcny0ds+eR8V/W/sv9r4nWaC7D8gmv3HTkAOrg1XWtXndrQqUsJxkM13tVokm80udP1njwOp1q+iJTH6VPgeZc7jbtvtqXd7ZB+3DLfJaQn7MaYB9zVBc+8oxyuturvyLrkQde7mmLb6tMEZZmF4m/2E5uYQdk9A/F/KZS1uxYz7twGYm0eC7yMMivHNPtEBp4TXjQFXQAXy22vUDf1fu7WF+/bU/h75H6c+/WlHU4M9x1IbOwSjhzz4nfmBsSuXdwh9WsOW27TqXxON3Ona2XMbn2br9iGcxlkW25DPWVw2UXL6UdJT4PbnJ1o0PX0rxNknxtO0Mumitxj7XIAABT+SURBVDtgUdbW4uJZYl8JwnDnQna+NdimB8int+8mse393GeHuMWyHgLUu8/qZONxb1J5KcTGplDg1pNhk6azavN6Qu5MYWOCDU2mDT12lJB1Mo9Ot7cB2tLODYwHagykUte52sGN7uST/731WSw/l1JyOp98HHD6FXD+S7bvK8LVbyaG1031tMl9GlgP7tIZj2aQ+Z3FG10WA2T93DTtB5S7BbDsz26kf2P7EIdlZzOIfW08Uza2ZcbscXSqbSb3jnQij+9yyyi7UAZej/JMvxyi5i/BeBYoyyNx6Xh8Xttv0w07e8scghduILvMtKwx7SS0duY2YNgEf9p/HE34vjzKKON0XBihG9sSMKHuPtdVnOjdw4MjySl49zNXeHv3wfeH/SSW3s99va0sVnMbG6iubaovv86tITF2A+nnSig+toEpS2q2Su4matF+TpdBWd5uXovcj+fjY+gFOI8ag3/rvUSEmNd9IQND8Age/yAPKMEYuwFjHd9o69zZDS4VcdbaSIKksjbaSGZBPsYVa1hXBD363WtqkWrZklbAPw98SWZBAZn7YlhVa/d0V9w7AkeTWJeWT2FBLkbzaDmdB/tyb7N8Nq3chPFUAbkpa5j9WgyL9zbh4AK/PkNSTAxB4Wswfl9KeWU00oJWFQeociSfGiMwVgSAWZsIXHqQwl93Y2jv8qpRfypG1Ws1gFEDWsCB1QQZUsktKCBz31qmPzeXFf+sHv4UfrmW8MVrSbK6z+tXGDsPnwkBjLB4gbaa1BhGTAjAZ+omK0F1EZtnP4fPhACrL782Kp/17U9bHdxKZEo+hadSiVyZQH6zbgzqbw68OrrRHTi0J8F0/sUvY3Ut3xbq3NkNyGdvrJHMggJy0xowKmaPATzcBtK2LWdNSj6FWQms+LT6uVk5quFx04sU+cdrG7nTVqZAsvud1cOu4mO7MSTY42OnPXlyQl+y319IuOlmzul9SxjpF0bihcam7Y7/UwM5sjoCwzdlcLGMIyvDiEodyDPmFq0675t13pOdGP7YGH5as5CIw2VAGdkfhfJccAKnnYBu43nG9ygxCzeQfgG4cJSokBiO+I6r/2l2E2l8WVbF+cwXLAiaR5TRNEhA2dGvOXauLbe1rmXmOzvSlXyyT5ZRdgFwv4uuzfay8YMMyspMxzfKYmQ559ZtSU9YT+K3JRR/u5+I+YbqgW/N9Cw1+X7uSS+vPIzJ5Xj3M50jzg/cj3fifhL73c/gimjjofEEtN5KxNKKcnEvsxdupf2z4xnWvP5trr4NfjzZr2Ibyij7di+h0XV/cDz73Xmm41pWgjFyITE/DGbUqLY06Hpydua2Zl+w8cMMis+VkP7RdCISrK2xhLhXxhN8ahyr3xpOu3r6SpWdyyFx+VQmLjzJ6FeD8G2SvlXW6yFdu7hDwlZivimj7EIeiYtWEmu5aF3nEGDzca+p3nTrksPGkBDCP8rBdPtJ4chJuK21DX1gbDl2cSurrv3YcCISPXjy0Z6AE+OeHEe7PdG8UrHubzYwZegkYqzV1e50w70Z5BfUHAm3Su5n60z1q6wEFqxLh1/fi3dv4NctcWoG+ekHTXWstG1XlGEmnencEfguhXX7ciksyCftcEV53YdBvi3g4CbC43MpLMhl89sLmB65k2M/p4e3Zk3W1bBC1+fnMePT8UTU0z87NtjLdGE0c6JrPz/e2j2H0dYGYWh+P09OcmPK1H5seGwJOeGD8V+5nrLgOUx5wEDxJUc6+b7Am+ED6+wfb+KG/7KVFIcs5PFeC03Leo9jVYS5q1zv6axbtpDJIY/hcbYMxzv64v+3GEKsBUy17YN+femEs8UoOAO5zxsM9LPeLeOKbbR9ffVtU93dH9riH/E3TgSEMPK+hTjeMZCgCWNIX3SWHysfhwykd8uNTLxvKqdLHfF8ciHvvGh+rNd8IGHblkBQOCN7LqSsmROej4fwzkQ3YD/bwxZyetaDeN9h5QlHLy8GNYvh0KFSxg6tpdm4WTdci9fi/4LpgnftMZFZY8zPuLqMYNaYVKZvX4P/C4CLJ2N7tyczxdyC1aUikc48/uwQ9r6dQOTcWUQCDv0D2dOjPQ4d/Fj4Sh6BS7cxfeo2wAFXryeInunddH2Cm/Vh5utPcPbNWKb/yXx3dHDB+7lZTL7bPE/BQVZEbqv6+F92AqGRQMdHWd+/M4VfpZB5CfhPFuuiLV+qcGVylz50b9WCQTMXENZsEYu3LmL8ZgAHuvtMYmbX6v3USk6ksn0fuD42kcb2qSz5bz2lTXl5PYHORYr/YyXtxuSznv1p87Ht0JLcqFmMKAKauTAo4CXGVvRz7zKCyX5GZu8ynX8OXR5lQu+DrKlZpvg8ysz4LBYnRuOfiGlQlLe96G5TxbAbk0MmkvnGWlbMn8UKBxdG9eoGB6r2e+EXGwndXLXStF0xpAHdx3bGu0stSdYlLZM0XBl1X/WPOxzbFkHoN/54D/FvcGtJfTo9/Td2lM0kOPghYoox3YPeCMe3Zf3L1sf5ycXsKJlJ8KR+hBaD8++HM2PDPMa1hnrLglrKnWppDwnl47fDmDKlH1GWaTsDODFu2XqKg+cwoe9CinHCc1gQO8LrGYygKTVBWVbJZw4fvx1G8F9G4H62DJw9GP16lOl7RjXf8brHj2d8dhHq14+46VvZ8eJgXo8ax4QZ4/FY5Eg7r0cZPAAqxnXxnh1F2NQZTHl4A2XOHoyb5o/v4V0UF1tJr1oh2vT72bvfQDC6Vj0k/W1f7rsHfuzXt6o7ffOehBiWEBoUxpCeZylr4Yb3U0tYN83ctNO87m2uzg3/ZeYyuLe5DPYZCHV8INrzKT/KIsfjcawEnPsStCrMfN414Hr67TjeiTrJhFfG03O+qQ71zOh/En7uR4qp8d5U1nqidp4Fohn5++hqyYxeVjWiX3rkGNwjARxp5zWYgFVbCejXVCVpHfWQYSGsOhTAlDH9CG/Rll6PDcQXi+Fdrzgnr+xKbNNxr6nOc7MebuN4Z1UxwWH+eISVQAs3vJ/6G+88ZUNrUD3HDoABPXH+6EV6vphHWQsPxkVEEFRR5vjMYeffYHLYeDzCTNfzuNAIAqzVwZt50bsHhP8jlZIxg2otPzt3aUFi2CwiywGH9oyd+RzezQC8+dPkFNJiEpg+NcE0bUA3SMwy9RaxKKMGjZ+Id8Zati+ey3aAjo9i6G0qr70D5zLz7CIio83Tfu3K2Ffm8mxDy7gbwC8uX758udYp5Y1+3Cg3g6wYRj5ykqCMhdjrW6jGyACmnxzBlmWPWv2WF+eLKMSFNq1qmXaplMISaONSX3/fckoKisClPU61vDNTXlRAWYvap9Ul1zCL8ZtreYLT8VHWL3+iepet80UUXnSwIa+NcKmUwsJynNq4mAZVqMGU39aErAthVG3700blRaXg0sLqIA3lxUXQsvY8VObzQnPaONeeQlPl8+oYCR0VTXz/QA6EeFNeVAROVralvJTCn6xvR6Vajn1S+ERmH6hlXvN6q62mrjw0CdOnFWZfmEDCgiE31MvIInILuwb1kJtJ9vLxDDnxIjkRDW/dtiolhhHzc5n47gImWB1ko5ySgos4tq+tXlDXtBpzFhVQ0rx97fW98lIKS22p79VwchP+wRYPYyu5MnnZomsTwDmYnn40eYuXSEN5P/scQ1+KIXLPw7z5kJWLqZWL9UaPZi1oU8cop1UccGpv/asjDi7t670h1KbzY3PZOayWt5kcWl2Z57q2o6nU+dJpAcYj+Tj1H4NvI4MZh3pufA7O9RyUZi1oY/WxdNPlsyk4uNSxLQ4taGPLiVPLsfcOWsrOF2qZ91dXrq/OPDSBkn0rWXSwLZMjFHSJiIiFvhOZ1f/PLHg/iUderb3Vy1THslYY1jWtxpwudQxwZmt5W9OdI1j63gO158vulbLqFHjJ9efsTVhoHgGvRhM/YBZDf329M9RAray0xN2QXPAe/iyd72vCrpR2cb3z+UucXFxwve2Xdl2Lg3P7OoLPaymLtWtP4fvKgp9l1w0REbGnFgx6ZS65M8JYsMebNx/6mQ21ewONgqiuhnLjuATYrRuViNRJ15+IiNRHZcXVMXc1bNpRDUUaQxeyyPWj609EROqjsqJRFHiJiIiIiIjYmQIvERERERERO1PgJSIiIiIiYmcKvOTq1POBbBERERERqXLtAq/zRRSev2Zru3o/l3zaqOTkQeL3HCSzlm0qLy6gpJbPT9WvnO0LA5m9q6Cx2RMRERERuSVco8ArnciXAhkxZxO512aFV+kGyGd5KYUFVxsQXanwi42ERm7EWDNGKkpg9qRpDFl68CpSdWDUuEHkx8wl/MvSpsimiIiIiMhN7RoFXp6M/XMAS2aOpvO1WeFVugHyeWAlI16YxuIDdl6PywAmzwwm5oU+V7d8tyeYNdKB7e9tJE3dDkVERERE6tS80SkUZpGU+CXGf7Wku5cXvv270aZyjP8CDu05TmHFf/+bT8mdnXGq+P/5XIwHcim5ItGWuPfvQ/dWFf8vJzflc5IO5sKdfRj0sBedm/Sj2bbl0+EPg/jDf1LZHH+Qctfq+chPSyLtX+3o8T8OpO1MIo1uDB0xiB5tKlaRTvzXpdW2Kz8tibQLnfHu3xmnin2RfcY07XgS8eW17Yv6FR5P4pPEXBz6PMy9NSfW3Of5BfRo075ysilPbtztnMv2L2DY430o+2obiQxg4nDLYws9/IbQI3YTm798lh4+tudPRERERORW06jAq+TLaCYtNnL2Vy60/SUk7tnGYidv3lweyKBWANl8EhlDfMUCHR9lfX+LgKbgICsit5F5RcquTPYwBxuXclkzI4wVJ6GNSwtITGLFms68/PYCJnRpTO4t2ZbP8i4JlH9fBI6l5BclsSL+Udb/7Qk6A5mfxBB6AGjmQBun5pQUJbF5exIz/zaPsR2AjARCI/OY3KUqiMr8JIbQ78zrKjrOZsNOcv9r6rr3z8838a4RwI2xHrYHXpmGWfhvzodfu+D6xedE/lQOuFbNUHOf9w9kaI+qwCvzkxhCj7bA1RHOFpWybvc62jhBYVECmf+NJmqMS1VaHbzo3WETa746SJjPVbaciYiIiIjcAhrR1bCI+G1G8tv78d5H0WwxRJPwuh89OI7xYMULSt6EbV/Lge0LmNyxliS6PIFh+1oOmP8YxpoChO5jA3nWPH/+1hhWnGzO0JnR7DREs3NVAIOa5RK53nj1Wb9CPfk0K2w7hJh10WwxrCbGzwVOGYnLspzDlWffXs1OQwz7IvzoXp7Fu5tSbctCRz+WGKLZMqUnAL5TTPt0iyGECXXkqZrzSazamg89nmXnumi2fBRNWO8aTYOV+zyQodbScRnEm4YY5vYFOvgRbQjl2Q5w6JvjNWbsjMedwKncG/zdPRERERGR66sRgZcLd3u4wPdJLIreRnxKLoXuE4kxRBPi2/B+gCX7ljFtcz5t+gcS7V/xhlURxuRc+LU7HcpTiN+TRHwKuLoBGZmkXX3mr0qHOzpXdrXr8btuQAHff285hxse3cz/7DaAwR2hJCPr2gUlR1NJugSDfIeY89mCu+9o2/B0mjngADhanB2/amZ1bvg+T4GXiIiIiEgdGtXVsMcfl7K+4wcs3rKTBfGbKAdce0zkzdf96F5XRb2mrE0ELj1I4Z2PYnjFu6qLH0WcvwCUZ/GJIQ/Hyt9dcOW/tbwbdoszD3Lh2KTvv4mIiIiISGM1IvAyDUhxvvNEot4NgEulZG5fRuDqtURu967+LlBdio2Ehm0js2Uf3lzwRI2ArT2/aQ1835NZq4MZ1JBg7rq7QPF54LctLQLJfHK+A8zvppX9XxOvsrULrkB+QQHQvr65m04Htxt8tEoRERERkeurUcPJZ+6IYfYby9icVUq5xZDirVpUNLkUcGhPEvF7Usk5j2lEvT1JxO9JJx9MA2fMjSa+2IF7fbwoS0kydSfck4TxZCnQAl+/PrS5dJBFczdhPFVAYZaRFXMDCVidheWnrgq/XEv44rUkFXIV6smnzQ6yakUquQX5GFesYV0R3Ot9L20AOrrRHTi0J4HMggIy45ex+nAtSZjnM8ZvI+1UAYVZqRyy9TvFPQbwcBtI27acNSn5FGYlsOLTGltQuW2Zpm07m2na57WOLlmfXHK/A+7sXD3w+nYvhtgMihucnoiIiIjIzakRLV7tmfC/weTPW87iGQEsBmjmQPehwcwd2sI8T43RAkklMjIV6MObD3nieuoge08BlHNoRwyHLFLvPrYz3l064zQgmJiXo5kds43pU7cB4NDBm7lB3bDsUVdyIpXt+8D1sYnQhgaqJ582p+OK8+kYxr9QZPpf32cJGWVueeoygsl+RmbvWoP/C+DQ5VEm9D7ImpqRXeV8mwiYuglwYOi0d7m3vS39B7sxOWQimW+sZcX8WaxwcGFUr25w4ELVLDVHNcxOIDSSypEcG+R8Fl9/B0PHVx/R8MyX6wld5Ean0aH4NixFEREREZGb0i8uX758udYp5Rdq/bn2eUspLAKn9i2w5+tF5UUFlDRvT5tahlbPNcxi/ObWhKwLYVQDvnnVVJLCJzL7QB/e3B7MoPNFFOJSaz4pL6Xwp+a0ca5nT9WyT03bWEsbXMdHWb/8iWqtTuVFReDkgoMdu2fmGmYxPtGTmPeepcfPqhuoiIiIiMg14tASaIoPKAM4tKDNNXilyMGlvZXGrAKMR/Jx6j8G3+sQdF2hlYv1RjeHFrSxJTqtZZ92fmwuO4eV1zJvqyvW5+Bi4zt2VytrE69tLWLUzCcVdImIiIiI1KNpAq/rzgXv4c/S+T7LERGvLYfbXHB1aWnXFj9aWWlFu+bK2f73T3H2n0vIgBb1zy4iIiIicotrmq6Gcuu5BKilS0RERESkbuauho0a1VBuYQq6RERERERspsBLRERERETEzhR4iYiIiIiI2JkCLxERERERETtT4CUiIiIiImJnCrxERERERETsTIGXiIiIiIiInSnwEhERERERsTMFXiIiIiIiInamwEtERERERMTOmlubcDn/2LXMh4iIiIiIyE3nF537mf6+fPny5eucFxERERERkZuauhqKiIiIiIjYmQIvERERERERO1PgJSIiIiIiYmcKvEREREREROxMgZeIiIiIiIidKfASERERERGxMwVeIiIiIiIidqbAS0RERERExM7+P/t48dUkApoJAAAAAElFTkSuQmCC)\n",
        "#### Formato de entrada em rede LSTM:\n",
        "![image.png](data:image/png;base64,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)\n",
        "\n",
        "##### Fonte: https://www.tensorflow.org/"
      ]
    },
    {
      "cell_type": "code",
      "execution_count": null,
      "id": "f7de5aeb",
      "metadata": {
        "id": "f7de5aeb"
      },
      "outputs": [],
      "source": [
        "##Dados de entrada devem ser normalizados, dados de saída não.\n",
        "x_train_1 = data2018_norm[0:len(data2018_norm)-1]\n",
        "y_train_1 = data2018_clean[1:len(data2018_norm), 1]\n",
        "\n",
        "valid_x_1 = data2019_norm[0:len(data2019)-1]\n",
        "valid_y_1 = data2019[1:len(data2019), 1]\n",
        "\n",
        "#Reshape data para modelo sklearn\n",
        "valid_x_1_skl = valid_x_1.reshape(-1, 1)\n",
        "x_train_1_skl = x_train_1.reshape(-1, 1)\n",
        "\n",
        "#Reshape para LSTM\n",
        "x_train_1_lstm = x_train_1.reshape(8719, 1, 1)\n",
        "x_valid_1_lstm = valid_x_1.reshape(4103, 1, 1)"
      ]
    },
    {
      "cell_type": "code",
      "execution_count": null,
      "id": "8f2f6e60",
      "metadata": {
        "id": "8f2f6e60"
      },
      "outputs": [],
      "source": [
        "# Confirmação da forma dos vetores de entrada e saída.\n",
        "print('Dados para modelo TF', x_train_1.shape, y_train_1.shape, valid_x_1.shape, valid_y_1.shape)\n",
        "print('Dados para modelo SKL', x_train_1_skl.shape, valid_x_1_skl.shape)\n",
        "print('Dados para modelo TF-LSTM', x_train_1_lstm.shape, x_valid_1_lstm.shape)"
      ]
    },
    {
      "cell_type": "markdown",
      "id": "80ee80c8",
      "metadata": {
        "id": "80ee80c8"
      },
      "source": [
        "## Visualização dos dados normalizados"
      ]
    },
    {
      "cell_type": "markdown",
      "id": "185e319b",
      "metadata": {
        "id": "185e319b"
      },
      "source": [
        "### Modelo 1 - Rede neural artificial com 2 camadas ocultas implementada em TensorFlow"
      ]
    },
    {
      "cell_type": "code",
      "execution_count": null,
      "id": "3859b900",
      "metadata": {
        "id": "3859b900"
      },
      "outputs": [],
      "source": [
        "# layers.Dense - Camada totalmente conectada, units = número de neurônios, activation = Função de ativação\n",
        "# Valores destes hiperparâmetros podem ser alterados para melhorar o desempenho do modelo.\n",
        "model_1 = tf.keras.Sequential([\n",
        "    tf.keras.layers.Input(shape=(1), name='Input_1'),\n",
        "    tf.keras.layers.Dense(units=30, activation = 'linear', name=\"Dense_1\"),\n",
        "    tf.keras.layers.Dense(units=10, activation = 'linear', name= \"Dense_2\"),\n",
        "    tf.keras.layers.Dense(units=1, activation = 'linear', name= \"result\")\n",
        "    ])"
      ]
    },
    {
      "cell_type": "code",
      "execution_count": null,
      "id": "b55fd482",
      "metadata": {
        "id": "b55fd482"
      },
      "outputs": [],
      "source": [
        "# Resumo das camadas do modelo e número de parâmetros.\n",
        "model_1.summary()"
      ]
    },
    {
      "cell_type": "code",
      "execution_count": null,
      "id": "9bbbfa3b",
      "metadata": {
        "id": "9bbbfa3b"
      },
      "outputs": [],
      "source": [
        "# Plot da arquitetura do modelo:\n",
        "tf.keras.utils.plot_model(model_1, to_file='archi_model_1.png', show_shapes=True)"
      ]
    },
    {
      "cell_type": "code",
      "execution_count": null,
      "id": "6fa52558",
      "metadata": {
        "id": "6fa52558"
      },
      "outputs": [],
      "source": [
        "# Compilação do modelo: Definição do otimizador, função de perda e métrica de desempenho.\n",
        "model_1.compile(optimizer='adam',\n",
        "    loss='MeanAbsoluteError',\n",
        "    metrics='mse')"
      ]
    },
    {
      "cell_type": "code",
      "execution_count": null,
      "id": "ed4bc076",
      "metadata": {
        "id": "ed4bc076"
      },
      "outputs": [],
      "source": [
        "# model.fit - Função para treinar a RNA (determinação dos valores ótimos dos parâmetros)\n",
        "# x = input; y = output; epochs = número de iterações durante o treinamento.\n",
        "history = model_1.fit(x= x_train_1, y= y_train_1,\n",
        "                      batch_size=64, epochs=20, verbose='auto', shuffle=False,\n",
        "                      validation_data=[valid_x_1, valid_y_1],\n",
        "                      validation_batch_size=64, use_multiprocessing=False\n",
        ")"
      ]
    },
    {
      "cell_type": "code",
      "execution_count": null,
      "id": "d8651c86",
      "metadata": {
        "id": "d8651c86"
      },
      "outputs": [],
      "source": [
        "# model.predict(Data) - Modelo determina os valores da saída para os dados de entrada fornecidos.\n",
        "pred_1 = model_1.predict(valid_x_1)"
      ]
    },
    {
      "cell_type": "code",
      "execution_count": null,
      "id": "fb840285",
      "metadata": {
        "id": "fb840285"
      },
      "outputs": [],
      "source": [
        "#Plotagem dos resultados\n",
        "x_axis = np.linspace(0, len(pred_1), len(pred_1))\n",
        "fig3 = plt.plot(x_axis, pred_1[:], 'g--', x_axis, valid_y_1, 'b:')\n",
        "plt.xlabel('Date')\n",
        "plt.ylabel('HHS (m)')\n",
        "plt.gca().legend(('Previsões', 'Observado'))"
      ]
    },
    {
      "cell_type": "code",
      "execution_count": null,
      "id": "ff611fa6",
      "metadata": {
        "id": "ff611fa6"
      },
      "outputs": [],
      "source": [
        "#Zoom no gráfico entre intervalos de interesse\n",
        "i = 200\n",
        "j = 300\n",
        "\n",
        "fig4 = plt.plot( x_axis[i:j], valid_y_1[i:j], 'b:', x_axis[i-1:j-1], pred_1[i:j], 'g--')\n",
        "plt.xlabel('Date')\n",
        "plt.ylabel('HHS (m)')\n",
        "plt.gca().legend(('Observado','Previsões'))"
      ]
    },
    {
      "cell_type": "markdown",
      "id": "e1b0a3a4",
      "metadata": {
        "id": "e1b0a3a4"
      },
      "source": [
        "## Modelo 2 - RNA implementada no scikit-learn"
      ]
    },
    {
      "cell_type": "code",
      "execution_count": null,
      "id": "ce9b0ef3",
      "metadata": {
        "id": "ce9b0ef3"
      },
      "outputs": [],
      "source": [
        "model_2 = MLPRegressor(hidden_layer_sizes=(50,), activation='tanh', solver='adam',alpha=0.0001, batch_size=1,\n",
        "                       learning_rate='adaptive',learning_rate_init=0.001, max_iter=20, shuffle=False,\n",
        "                       random_state=None, tol=0.0001, verbose=True, warm_start=True,\n",
        "                       momentum=0.9, nesterovs_momentum=True, early_stopping=True,\n",
        "                       validation_fraction=0.2).fit(x_train_1_skl, y_train_1)"
      ]
    },
    {
      "cell_type": "code",
      "execution_count": null,
      "id": "c03efa12",
      "metadata": {
        "id": "c03efa12"
      },
      "outputs": [],
      "source": [
        "pred_2 = model_2.predict(valid_x_1_skl)"
      ]
    },
    {
      "cell_type": "code",
      "execution_count": null,
      "id": "13e11047",
      "metadata": {
        "id": "13e11047"
      },
      "outputs": [],
      "source": [
        "x_axis = np.linspace(0, len(pred_2), len(pred_2))\n",
        "fig3 = plt.plot(x_axis, pred_2, 'g--', x_axis, valid_y_1, 'b:')\n",
        "plt.xlabel('Date')\n",
        "plt.ylabel('HHS (m)')\n",
        "plt.gca().legend(('Previsões', 'Observado'))"
      ]
    },
    {
      "cell_type": "code",
      "execution_count": null,
      "id": "c0fd3418",
      "metadata": {
        "id": "c0fd3418"
      },
      "outputs": [],
      "source": [
        "#Zoom no gráfico entre intervalos de interesse\n",
        "i = 200\n",
        "j = 300\n",
        "fig4 = plt.plot(x_axis[i:j], valid_y_1[i:j], 'b:', x_axis[i-1:j-1], pred_2[i:j], 'g--')\n",
        "plt.xlabel('Date')\n",
        "plt.ylabel('HHS (m)')\n",
        "plt.gca().legend(('Previsões', 'Observado'))"
      ]
    },
    {
      "cell_type": "markdown",
      "id": "b09a9421-616f-48e6-b026-db2e32f9efdb",
      "metadata": {
        "id": "b09a9421-616f-48e6-b026-db2e32f9efdb"
      },
      "source": [
        "## Modelo 3 - Rede LSTM"
      ]
    },
    {
      "cell_type": "markdown",
      "id": "5daabef3",
      "metadata": {
        "id": "5daabef3"
      },
      "source": [
        "### Rede LSTM implementada em TensorFlow"
      ]
    },
    {
      "cell_type": "code",
      "execution_count": null,
      "id": "d06b587d-83de-4dd6-84e6-315e9220e7e6",
      "metadata": {
        "id": "d06b587d-83de-4dd6-84e6-315e9220e7e6"
      },
      "outputs": [],
      "source": [
        "model_3 = tf.keras.Sequential([\n",
        "    tf.keras.layers.Input(shape=(1, 1), name='Input_1'),\n",
        "    tf.keras.layers.LSTM(30, activation='relu', recurrent_activation='sigmoid', use_bias=True, name='LSTM_1', input_shape=(200,1),\n",
        "                        time_major=False),\n",
        "    tf.keras.layers.Dense(10, activation='tanh', name='Dense_1'),\n",
        "    tf.keras.layers.Dense(1, activation='linear', name='Dense_2')\n",
        "]\n",
        ")"
      ]
    },
    {
      "cell_type": "code",
      "execution_count": null,
      "id": "5c22b6dd-1880-4c61-adab-0fcab31ce08e",
      "metadata": {
        "id": "5c22b6dd-1880-4c61-adab-0fcab31ce08e"
      },
      "outputs": [],
      "source": [
        "model_3.compile(optimizer='adam', loss='MeanAbsoluteError', metrics='mse')"
      ]
    },
    {
      "cell_type": "code",
      "execution_count": null,
      "id": "5b8f39be-9a69-4dde-8290-3f20e39ad316",
      "metadata": {
        "id": "5b8f39be-9a69-4dde-8290-3f20e39ad316"
      },
      "outputs": [],
      "source": [
        "model_3.summary()"
      ]
    },
    {
      "cell_type": "code",
      "execution_count": null,
      "id": "bd0bf405",
      "metadata": {
        "id": "bd0bf405"
      },
      "outputs": [],
      "source": [
        "# Plot da arquitetura do modelo:\n",
        "tf.keras.utils.plot_model(model_3, to_file='archi_model_1.png', show_shapes=True)"
      ]
    },
    {
      "cell_type": "code",
      "execution_count": null,
      "id": "24863869-8fcd-4296-ac5a-d030a31cd280",
      "metadata": {
        "id": "24863869-8fcd-4296-ac5a-d030a31cd280"
      },
      "outputs": [],
      "source": [
        "history = model_3.fit(x= x_train_1_lstm, y= y_train_1,\n",
        "                      batch_size=32, epochs=10, verbose='auto', shuffle=False,\n",
        "                      validation_data=[x_valid_1_lstm, valid_y_1],\n",
        "                      validation_batch_size=1, use_multiprocessing=False\n",
        ")"
      ]
    },
    {
      "cell_type": "code",
      "execution_count": null,
      "id": "dd315ce7-9aba-407c-a8ae-84955b8c5dbe",
      "metadata": {
        "id": "dd315ce7-9aba-407c-a8ae-84955b8c5dbe"
      },
      "outputs": [],
      "source": [
        "pred_3 = model_3.predict(x_valid_1_lstm)"
      ]
    },
    {
      "cell_type": "code",
      "execution_count": null,
      "id": "71817f99-7eed-4bcb-bd98-7075dabc4459",
      "metadata": {
        "id": "71817f99-7eed-4bcb-bd98-7075dabc4459"
      },
      "outputs": [],
      "source": [
        "x_axis = np.linspace(0, len(pred_3), len(pred_3))\n",
        "fig3 = plt.plot(x_axis, pred_3, 'g--', x_axis, valid_y_1, 'b:')\n",
        "plt.xlabel('Date')\n",
        "plt.ylabel('HHS (m)')\n",
        "plt.gca().legend(('Previsões', 'Observado'))"
      ]
    },
    {
      "cell_type": "code",
      "execution_count": null,
      "id": "89deb0e0-e741-4799-844a-29a9e45524cf",
      "metadata": {
        "id": "89deb0e0-e741-4799-844a-29a9e45524cf"
      },
      "outputs": [],
      "source": [
        "#Zoom no gráfico entre intervalos de interesse\n",
        "i = 200\n",
        "j = 300\n",
        "fig4 = plt.plot(x_axis[i:j], valid_y_1[i:j], 'b:', x_axis[i-1:j-1], pred_3[i:j], 'g--')\n",
        "plt.xlabel('Date')\n",
        "plt.ylabel('HHS (m)')\n",
        "plt.gca().legend(('Previsões', 'Observado'))"
      ]
    },
    {
      "cell_type": "markdown",
      "id": "04292296",
      "metadata": {
        "id": "04292296"
      },
      "source": [
        "## Comparação entre modelos"
      ]
    },
    {
      "cell_type": "code",
      "execution_count": null,
      "id": "05bb348c",
      "metadata": {
        "id": "05bb348c"
      },
      "outputs": [],
      "source": [
        "#Zoom no gráfico entre intervalos de interesse\n",
        "i = 250\n",
        "j = 300\n",
        "\n",
        "fig4 = plt.plot(x_axis[i:j], pred_1[i:j], x_axis[i:j], pred_2[i:j], x_axis[i:j], pred_3[i:j], 'g--',\n",
        "                x_axis[i+1:j+1], valid_y_1[i:j], 'b:')\n",
        "plt.xlabel('Date')\n",
        "plt.ylabel('HHS (m)')\n",
        "plt.legend(['TF - MLP', 'SKL - MLP','TF - LSTM','Observado'], loc=0, ncol=2)"
      ]
    }
  ],
  "metadata": {
    "kernelspec": {
      "display_name": "Python 3 (ipykernel)",
      "language": "python",
      "name": "python3"
    },
    "language_info": {
      "codemirror_mode": {
        "name": "ipython",
        "version": 3
      },
      "file_extension": ".py",
      "mimetype": "text/x-python",
      "name": "python",
      "nbconvert_exporter": "python",
      "pygments_lexer": "ipython3",
      "version": "3.9.7"
    },
    "colab": {
      "provenance": [],
      "private_outputs": true,
      "include_colab_link": true
    },
    "gpuClass": "standard"
  },
  "nbformat": 4,
  "nbformat_minor": 5
}